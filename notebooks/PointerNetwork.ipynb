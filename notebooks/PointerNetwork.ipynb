{
 "cells": [
  {
   "cell_type": "markdown",
   "id": "d0c87771",
   "metadata": {},
   "source": [
    "# Ejemplo Toy de Pointer Network para Sumar Subconjuntos"
   ]
  },
  {
   "cell_type": "markdown",
   "id": "89d8e27d",
   "metadata": {},
   "source": [
    "Este cuaderno explica paso a paso el código del proyecto toy_ptrnet, que implementa un Pointer Network para resolver la tarea de encontrar un subconjunto de índices cuya suma coincide con un valor objetivo. \n",
    "\n",
    "**Contenido**:\n",
    "  - Definición del dataset y DataLoader\n",
    "  - Arquitectura del modelo y explicación detallada\n",
    "  - Bucle de entrenamiento con funciones de pérdida combinada\n",
    "  - Evaluación con métricas y tiempos de inferencia\n",
    "  - Comentarios sobre mejoras "
   ]
  },
  {
   "cell_type": "markdown",
   "id": "61159b56",
   "metadata": {},
   "source": [
    "## 1. Instalación de dependencias"
   ]
  },
  {
   "cell_type": "markdown",
   "id": "9914b43f",
   "metadata": {},
   "source": [
    "Se debe de instalar esta librería\n",
    "\n",
    "```bash\n",
    "pip install torch\n",
    "```\n"
   ]
  },
  {
   "cell_type": "code",
   "execution_count": 1,
   "id": "b8d3cc31",
   "metadata": {},
   "outputs": [
    {
     "name": "stdout",
     "output_type": "stream",
     "text": [
      "Requirement already satisfied: torch in c:\\users\\josep\\appdata\\local\\programs\\python\\python312\\lib\\site-packages (2.3.1)\n",
      "Requirement already satisfied: filelock in c:\\users\\josep\\appdata\\local\\programs\\python\\python312\\lib\\site-packages (from torch) (3.14.0)\n",
      "Requirement already satisfied: typing-extensions>=4.8.0 in c:\\users\\josep\\appdata\\local\\programs\\python\\python312\\lib\\site-packages (from torch) (4.12.2)\n",
      "Requirement already satisfied: sympy in c:\\users\\josep\\appdata\\local\\programs\\python\\python312\\lib\\site-packages (from torch) (1.12.1)\n",
      "Requirement already satisfied: networkx in c:\\users\\josep\\appdata\\local\\programs\\python\\python312\\lib\\site-packages (from torch) (3.3)\n",
      "Requirement already satisfied: jinja2 in c:\\users\\josep\\appdata\\local\\programs\\python\\python312\\lib\\site-packages (from torch) (3.1.4)\n",
      "Requirement already satisfied: fsspec in c:\\users\\josep\\appdata\\local\\programs\\python\\python312\\lib\\site-packages (from torch) (2024.6.0)\n",
      "Requirement already satisfied: mkl<=2021.4.0,>=2021.1.1 in c:\\users\\josep\\appdata\\local\\programs\\python\\python312\\lib\\site-packages (from torch) (2021.4.0)\n",
      "Requirement already satisfied: intel-openmp==2021.* in c:\\users\\josep\\appdata\\local\\programs\\python\\python312\\lib\\site-packages (from mkl<=2021.4.0,>=2021.1.1->torch) (2021.4.0)\n",
      "Requirement already satisfied: tbb==2021.* in c:\\users\\josep\\appdata\\local\\programs\\python\\python312\\lib\\site-packages (from mkl<=2021.4.0,>=2021.1.1->torch) (2021.12.0)\n",
      "Requirement already satisfied: MarkupSafe>=2.0 in c:\\users\\josep\\appdata\\local\\programs\\python\\python312\\lib\\site-packages (from jinja2->torch) (3.0.2)\n",
      "Requirement already satisfied: mpmath<1.4.0,>=1.1.0 in c:\\users\\josep\\appdata\\local\\programs\\python\\python312\\lib\\site-packages (from sympy->torch) (1.3.0)\n",
      "Note: you may need to restart the kernel to use updated packages.\n"
     ]
    },
    {
     "name": "stderr",
     "output_type": "stream",
     "text": [
      "\n",
      "[notice] A new release of pip is available: 24.3.1 -> 25.1.1\n",
      "[notice] To update, run: python.exe -m pip install --upgrade pip\n"
     ]
    }
   ],
   "source": [
    "%pip install torch"
   ]
  },
  {
   "cell_type": "markdown",
   "id": "90b02299",
   "metadata": {},
   "source": [
    "## 2. Definición del Dataset "
   ]
  },
  {
   "cell_type": "markdown",
   "id": "728e98d2",
   "metadata": {},
   "source": [
    "Generar secuencias de enteros $x$ y subconjuntos de índices cuya suma es $S$."
   ]
  },
  {
   "cell_type": "code",
   "execution_count": null,
   "id": "aa443d1b",
   "metadata": {},
   "outputs": [],
   "source": [
    "from torch.utils.data import Dataset, DataLoader\n",
    "import random, torch\n",
    "\n",
    "class SubsetSumDataset(Dataset):\n",
    "    def __init__(self, num_examples, seq_len, max_val, max_subset):\n",
    "        self.data = []\n",
    "        for _ in range(num_examples):\n",
    "            x = [random.randint(1, max_val) for _ in range(seq_len)]\n",
    "            k = random.randint(1, max_subset)\n",
    "            idxs = random.sample(range(seq_len), k)\n",
    "            S = sum(x[i] for i in idxs)\n",
    "            self.data.append((x, idxs, S))\n",
    "\n",
    "    def __len__(self):\n",
    "        return len(self.data)\n",
    "\n",
    "    def __getitem__(self, i):\n",
    "        x, idxs, S = self.data[i]\n",
    "        return x, idxs, S\n",
    "\n",
    "# Función de collate para padding\n",
    "def collate_fn(batch):\n",
    "    xs, idxs_list, Ss = zip(*batch)\n",
    "    B = len(xs)\n",
    "    seq_len = len(xs[0])\n",
    "    max_k = max(len(idxs) for idxs in idxs_list)\n",
    "    x_tensor   = torch.tensor(xs, dtype=torch.long)\n",
    "    idxs_tensor = torch.zeros(B, max_k, dtype=torch.long)\n",
    "    for i, idxs in enumerate(idxs_list):\n",
    "        padded = idxs + [idxs[-1]]*(max_k-len(idxs))\n",
    "        idxs_tensor[i] = torch.tensor(padded)\n",
    "    return x_tensor, idxs_tensor, torch.tensor(Ss, dtype=torch.long)\n",
    "\n",
    "# DataLoader\n",
    "def get_dataloader(batch_size, num_examples, seq_len, max_val, max_subset, shuffle=True):\n",
    "    ds = SubsetSumDataset(num_examples, seq_len, max_val, max_subset)\n",
    "    return DataLoader(ds, batch_size=batch_size, shuffle=shuffle, collate_fn=collate_fn)"
   ]
  },
  {
   "cell_type": "markdown",
   "id": "610bb704",
   "metadata": {},
   "source": [
    "- **SubsetSumDataset**: construye las muestras.\n",
    "- **collate_fn**: agrupa un batch, hace padding de los índices y devuelve tensores."
   ]
  },
  {
   "cell_type": "markdown",
   "id": "e652fb50",
   "metadata": {},
   "source": [
    "## 3. Definición del Modelo"
   ]
  },
  {
   "cell_type": "code",
   "execution_count": null,
   "id": "a8301b53",
   "metadata": {},
   "outputs": [],
   "source": [
    "import torch\n",
    "import torch.nn as nn\n",
    "import torch.nn.functional as F\n",
    "\n",
    "\n",
    "class PointerNetwork(nn.Module):\n",
    "    \"\"\"\n",
    "    Pointer Network toy para sumar subconjuntos.\n",
    "    Conditioned on S (suma objetivo).\n",
    "    \"\"\"\n",
    "\n",
    "    def __init__(\n",
    "        self,\n",
    "        seq_len: int,\n",
    "        vocab_size: int,\n",
    "        embed_dim: int,\n",
    "        hidden_dim: int,\n",
    "        dropout: float = 0.1,\n",
    "    ):\n",
    "        super().__init__()\n",
    "\n",
    "        self.embedding = nn.Embedding(vocab_size, embed_dim)\n",
    "        self.dropout = nn.Dropout(dropout)\n",
    "        # Encoder bidireccional\n",
    "        self.encoder = nn.LSTM(\n",
    "            embed_dim, hidden_dim, batch_first=True, bidirectional=True\n",
    "        )\n",
    "        # Inicializar decoder\n",
    "        self.init_linear = nn.Linear(hidden_dim * 2, hidden_dim)\n",
    "\n",
    "        self.decoder_cell = nn.LSTMCell(embed_dim, hidden_dim)\n",
    "\n",
    "        # Atención (pointer)\n",
    "        self.W1 = nn.Linear(hidden_dim * 2, hidden_dim, bias=False)\n",
    "        self.W2 = nn.Linear(hidden_dim, hidden_dim, bias=False)\n",
    "        self.v = nn.Linear(hidden_dim, 1, bias=False)\n",
    "\n",
    "        # Proyección de la suma\n",
    "        self.sum_proj = nn.Linear(1, embed_dim)\n",
    "\n",
    "    def forward(self, x: torch.LongTensor, S: torch.LongTensor, max_output_len: int):\n",
    "\n",
    "        B, seq_len = x.size()\n",
    "        # Encode\n",
    "        emb = self.embedding(x)\n",
    "        emb = self.dropout(emb)\n",
    "        enc_out, (h_n, c_n) = self.encoder(emb)\n",
    "        enc_out = self.dropout(enc_out)\n",
    "        # Init decoder\n",
    "        h0 = torch.cat([h_n[-2], h_n[-1]], dim=1)\n",
    "        c0 = torch.cat([c_n[-2], c_n[-1]], dim=1)\n",
    "        h = self.init_linear(h0)\n",
    "        c = self.init_linear(c0)\n",
    "        # sum embedding\n",
    "        s_emb = self.sum_proj(S.unsqueeze(-1).float())\n",
    "        inp = self.dropout(s_emb)\n",
    "        # Decode steps\n",
    "        ptr_dists = []\n",
    "        for _ in range(max_output_len):\n",
    "            h, c = self.decoder_cell(inp, (h, c))\n",
    "            # Atención como puntero\n",
    "            w1 = self.W1(enc_out)\n",
    "            w2 = self.W2(h).unsqueeze(1)\n",
    "            u = self.v(torch.tanh(w1 + w2)).squeeze(-1)\n",
    "            a = F.softmax(u, dim=1)\n",
    "            ptr_dists.append(a)\n",
    "            # embed pointed element\n",
    "            idx = a.argmax(dim=1)\n",
    "            inp = emb.gather(1, idx.view(B, 1, 1).expand(-1, -1, emb.size(2)))\n",
    "            inp = inp.squeeze(1)\n",
    "            inp = self.dropout(inp)\n",
    "        return torch.stack(ptr_dists, dim=1)\n"
   ]
  },
  {
   "cell_type": "markdown",
   "id": "941310ab",
   "metadata": {},
   "source": [
    "- La atención calcula puntuaciones $u_{t,j}$ y $softmax$ sobre posiciones de entrada.\n",
    "- El decoder apunta a índices en $x$ en cada paso.\n",
    "\n"
   ]
  },
  {
   "cell_type": "markdown",
   "id": "c36c08d8",
   "metadata": {},
   "source": [
    "## 4. Entrenamiento"
   ]
  },
  {
   "cell_type": "code",
   "execution_count": 2,
   "id": "d9e6f6f6",
   "metadata": {},
   "outputs": [
    {
     "ename": "KeyboardInterrupt",
     "evalue": "",
     "output_type": "error",
     "traceback": [
      "\u001b[1;31m---------------------------------------------------------------------------\u001b[0m",
      "\u001b[1;31mKeyboardInterrupt\u001b[0m                         Traceback (most recent call last)",
      "Cell \u001b[1;32mIn[2], line 2\u001b[0m\n\u001b[0;32m      1\u001b[0m \u001b[38;5;28;01mimport\u001b[39;00m \u001b[38;5;21;01mtime\u001b[39;00m\n\u001b[1;32m----> 2\u001b[0m \u001b[38;5;28;01mimport\u001b[39;00m \u001b[38;5;21;01mtorch\u001b[39;00m\n\u001b[0;32m      3\u001b[0m \u001b[38;5;28;01mimport\u001b[39;00m \u001b[38;5;21;01mtorch\u001b[39;00m\u001b[38;5;21;01m.\u001b[39;00m\u001b[38;5;21;01mnn\u001b[39;00m\u001b[38;5;21;01m.\u001b[39;00m\u001b[38;5;21;01mfunctional\u001b[39;00m \u001b[38;5;28;01mas\u001b[39;00m \u001b[38;5;21;01mF\u001b[39;00m\n\u001b[0;32m      4\u001b[0m \u001b[38;5;28;01mfrom\u001b[39;00m \u001b[38;5;21;01mtorch\u001b[39;00m\u001b[38;5;21;01m.\u001b[39;00m\u001b[38;5;21;01moptim\u001b[39;00m \u001b[38;5;28;01mimport\u001b[39;00m Adam\n",
      "File \u001b[1;32mc:\\Users\\josep\\AppData\\Local\\Programs\\Python\\Python312\\Lib\\site-packages\\torch\\__init__.py:1921\u001b[0m\n\u001b[0;32m   1919\u001b[0m \u001b[38;5;28;01mfrom\u001b[39;00m \u001b[38;5;21;01m.\u001b[39;00m \u001b[38;5;28;01mimport\u001b[39;00m library\n\u001b[0;32m   1920\u001b[0m \u001b[38;5;28;01mif\u001b[39;00m \u001b[38;5;129;01mnot\u001b[39;00m TYPE_CHECKING:\n\u001b[1;32m-> 1921\u001b[0m     \u001b[38;5;28;01mfrom\u001b[39;00m \u001b[38;5;21;01m.\u001b[39;00m \u001b[38;5;28;01mimport\u001b[39;00m _meta_registrations\n\u001b[0;32m   1923\u001b[0m \u001b[38;5;66;03m# Enable CUDA Sanitizer\u001b[39;00m\n\u001b[0;32m   1924\u001b[0m \u001b[38;5;28;01mif\u001b[39;00m \u001b[38;5;124m'\u001b[39m\u001b[38;5;124mTORCH_CUDA_SANITIZER\u001b[39m\u001b[38;5;124m'\u001b[39m \u001b[38;5;129;01min\u001b[39;00m os\u001b[38;5;241m.\u001b[39menviron:\n",
      "File \u001b[1;32mc:\\Users\\josep\\AppData\\Local\\Programs\\Python\\Python312\\Lib\\site-packages\\torch\\_meta_registrations.py:9\u001b[0m\n\u001b[0;32m      7\u001b[0m \u001b[38;5;28;01mimport\u001b[39;00m \u001b[38;5;21;01mtorch\u001b[39;00m\u001b[38;5;21;01m.\u001b[39;00m\u001b[38;5;21;01m_prims_common\u001b[39;00m \u001b[38;5;28;01mas\u001b[39;00m \u001b[38;5;21;01mutils\u001b[39;00m\n\u001b[0;32m      8\u001b[0m \u001b[38;5;28;01mfrom\u001b[39;00m \u001b[38;5;21;01mtorch\u001b[39;00m \u001b[38;5;28;01mimport\u001b[39;00m SymBool, SymFloat, Tensor\n\u001b[1;32m----> 9\u001b[0m \u001b[38;5;28;01mfrom\u001b[39;00m \u001b[38;5;21;01mtorch\u001b[39;00m\u001b[38;5;21;01m.\u001b[39;00m\u001b[38;5;21;01m_decomp\u001b[39;00m \u001b[38;5;28;01mimport\u001b[39;00m (\n\u001b[0;32m     10\u001b[0m     _add_op_to_registry,\n\u001b[0;32m     11\u001b[0m     _convert_out_params,\n\u001b[0;32m     12\u001b[0m     global_decomposition_table,\n\u001b[0;32m     13\u001b[0m     meta_table,\n\u001b[0;32m     14\u001b[0m )\n\u001b[0;32m     15\u001b[0m \u001b[38;5;28;01mfrom\u001b[39;00m \u001b[38;5;21;01mtorch\u001b[39;00m\u001b[38;5;21;01m.\u001b[39;00m\u001b[38;5;21;01m_ops\u001b[39;00m \u001b[38;5;28;01mimport\u001b[39;00m OpOverload\n\u001b[0;32m     16\u001b[0m \u001b[38;5;28;01mfrom\u001b[39;00m \u001b[38;5;21;01mtorch\u001b[39;00m\u001b[38;5;21;01m.\u001b[39;00m\u001b[38;5;21;01m_prims\u001b[39;00m \u001b[38;5;28;01mimport\u001b[39;00m _prim_elementwise_meta, ELEMENTWISE_PRIM_TYPE_PROMOTION_KIND\n",
      "File \u001b[1;32mc:\\Users\\josep\\AppData\\Local\\Programs\\Python\\Python312\\Lib\\site-packages\\torch\\_decomp\\__init__.py:244\u001b[0m\n\u001b[0;32m    240\u001b[0m             decompositions\u001b[38;5;241m.\u001b[39mpop(op, \u001b[38;5;28;01mNone\u001b[39;00m)\n\u001b[0;32m    243\u001b[0m \u001b[38;5;66;03m# populate the table\u001b[39;00m\n\u001b[1;32m--> 244\u001b[0m \u001b[38;5;28;01mimport\u001b[39;00m \u001b[38;5;21;01mtorch\u001b[39;00m\u001b[38;5;21;01m.\u001b[39;00m\u001b[38;5;21;01m_decomp\u001b[39;00m\u001b[38;5;21;01m.\u001b[39;00m\u001b[38;5;21;01mdecompositions\u001b[39;00m\n\u001b[0;32m    245\u001b[0m \u001b[38;5;28;01mimport\u001b[39;00m \u001b[38;5;21;01mtorch\u001b[39;00m\u001b[38;5;21;01m.\u001b[39;00m\u001b[38;5;21;01m_refs\u001b[39;00m\n\u001b[0;32m    248\u001b[0m \u001b[38;5;66;03m# See NOTE [Core ATen Ops]\u001b[39;00m\n\u001b[0;32m    249\u001b[0m \u001b[38;5;66;03m#\u001b[39;00m\n\u001b[0;32m    250\u001b[0m \u001b[38;5;66;03m# list was copied from torch/_inductor/decomposition.py\u001b[39;00m\n\u001b[0;32m    251\u001b[0m \u001b[38;5;66;03m# excluding decompositions that results in prim ops\u001b[39;00m\n\u001b[0;32m    252\u001b[0m \u001b[38;5;66;03m# Resulting opset of decomposition is core aten ops\u001b[39;00m\n",
      "File \u001b[1;32mc:\\Users\\josep\\AppData\\Local\\Programs\\Python\\Python312\\Lib\\site-packages\\torch\\_decomp\\decompositions.py:11\u001b[0m\n\u001b[0;32m      8\u001b[0m \u001b[38;5;28;01mfrom\u001b[39;00m \u001b[38;5;21;01mtyping\u001b[39;00m \u001b[38;5;28;01mimport\u001b[39;00m Any, Callable, cast, Iterable, List, Optional, Tuple, Union\n\u001b[0;32m     10\u001b[0m \u001b[38;5;28;01mimport\u001b[39;00m \u001b[38;5;21;01mtorch\u001b[39;00m\n\u001b[1;32m---> 11\u001b[0m \u001b[38;5;28;01mimport\u001b[39;00m \u001b[38;5;21;01mtorch\u001b[39;00m\u001b[38;5;21;01m.\u001b[39;00m\u001b[38;5;21;01m_prims\u001b[39;00m \u001b[38;5;28;01mas\u001b[39;00m \u001b[38;5;21;01mprims\u001b[39;00m\n\u001b[0;32m     12\u001b[0m \u001b[38;5;28;01mimport\u001b[39;00m \u001b[38;5;21;01mtorch\u001b[39;00m\u001b[38;5;21;01m.\u001b[39;00m\u001b[38;5;21;01m_prims_common\u001b[39;00m \u001b[38;5;28;01mas\u001b[39;00m \u001b[38;5;21;01mutils\u001b[39;00m\n\u001b[0;32m     13\u001b[0m \u001b[38;5;28;01mimport\u001b[39;00m \u001b[38;5;21;01mtorch\u001b[39;00m\u001b[38;5;21;01m.\u001b[39;00m\u001b[38;5;21;01mnn\u001b[39;00m\u001b[38;5;21;01m.\u001b[39;00m\u001b[38;5;21;01mfunctional\u001b[39;00m \u001b[38;5;28;01mas\u001b[39;00m \u001b[38;5;21;01mF\u001b[39;00m\n",
      "File \u001b[1;32mc:\\Users\\josep\\AppData\\Local\\Programs\\Python\\Python312\\Lib\\site-packages\\torch\\_prims\\__init__.py:3031\u001b[0m\n\u001b[0;32m   3022\u001b[0m frexp \u001b[38;5;241m=\u001b[39m _make_prim(\n\u001b[0;32m   3023\u001b[0m     schema\u001b[38;5;241m=\u001b[39m\u001b[38;5;124m\"\u001b[39m\u001b[38;5;124mfrexp(Tensor self) -> (Tensor mantissa, Tensor exponent)\u001b[39m\u001b[38;5;124m\"\u001b[39m,\n\u001b[0;32m   3024\u001b[0m     meta\u001b[38;5;241m=\u001b[39m_frexp_meta,\n\u001b[1;32m   (...)\u001b[0m\n\u001b[0;32m   3027\u001b[0m     doc\u001b[38;5;241m=\u001b[39m\u001b[38;5;124m\"\u001b[39m\u001b[38;5;124m\"\u001b[39m,\n\u001b[0;32m   3028\u001b[0m )\n\u001b[0;32m   3030\u001b[0m register_rng_prims()\n\u001b[1;32m-> 3031\u001b[0m \u001b[43mregister_debug_prims\u001b[49m\u001b[43m(\u001b[49m\u001b[43m)\u001b[49m\n",
      "File \u001b[1;32mc:\\Users\\josep\\AppData\\Local\\Programs\\Python\\Python312\\Lib\\site-packages\\torch\\_prims\\debug_prims.py:40\u001b[0m, in \u001b[0;36mregister_debug_prims\u001b[1;34m()\u001b[0m\n\u001b[0;32m     29\u001b[0m \u001b[38;5;129m@custom_op\u001b[39m(\u001b[38;5;124m\"\u001b[39m\u001b[38;5;124mdebugprims::load_tensor\u001b[39m\u001b[38;5;124m\"\u001b[39m)\n\u001b[0;32m     30\u001b[0m \u001b[38;5;28;01mdef\u001b[39;00m \u001b[38;5;21mload_tensor\u001b[39m(  \u001b[38;5;66;03m# type: ignore[empty-body]\u001b[39;00m\n\u001b[0;32m     31\u001b[0m     name: \u001b[38;5;28mstr\u001b[39m,\n\u001b[1;32m   (...)\u001b[0m\n\u001b[0;32m     36\u001b[0m     device: torch\u001b[38;5;241m.\u001b[39mdevice,\n\u001b[0;32m     37\u001b[0m ) \u001b[38;5;241m-\u001b[39m\u001b[38;5;241m>\u001b[39m torch\u001b[38;5;241m.\u001b[39mTensor:\n\u001b[0;32m     38\u001b[0m     \u001b[38;5;241m.\u001b[39m\u001b[38;5;241m.\u001b[39m\u001b[38;5;241m.\u001b[39m\n\u001b[1;32m---> 40\u001b[0m \u001b[43m\u001b[49m\u001b[38;5;129;43m@load_tensor\u001b[39;49m\u001b[38;5;241;43m.\u001b[39;49m\u001b[43mimpl_factory\u001b[49m\u001b[43m(\u001b[49m\u001b[43m)\u001b[49m\n\u001b[0;32m     41\u001b[0m \u001b[43m\u001b[49m\u001b[38;5;28;43;01mdef\u001b[39;49;00m\u001b[43m \u001b[49m\u001b[38;5;21;43mload_tensor_factory\u001b[39;49m\u001b[43m(\u001b[49m\u001b[43mname\u001b[49m\u001b[43m,\u001b[49m\u001b[43m \u001b[49m\u001b[43msize\u001b[49m\u001b[43m,\u001b[49m\u001b[43m \u001b[49m\u001b[43mstride\u001b[49m\u001b[43m,\u001b[49m\u001b[43m \u001b[49m\u001b[43mdtype\u001b[49m\u001b[43m,\u001b[49m\u001b[43m \u001b[49m\u001b[43mdevice\u001b[49m\u001b[43m)\u001b[49m\u001b[43m:\u001b[49m\n\u001b[0;32m     42\u001b[0m \u001b[43m    \u001b[49m\u001b[38;5;28;43;01mif\u001b[39;49;00m\u001b[43m \u001b[49m\u001b[43mLOAD_TENSOR_READER\u001b[49m\u001b[43m \u001b[49m\u001b[38;5;129;43;01mis\u001b[39;49;00m\u001b[43m \u001b[49m\u001b[38;5;28;43;01mNone\u001b[39;49;00m\u001b[43m:\u001b[49m\n\u001b[0;32m     43\u001b[0m \u001b[43m        \u001b[49m\u001b[38;5;28;43;01mfrom\u001b[39;49;00m\u001b[43m \u001b[49m\u001b[38;5;21;43;01mtorch\u001b[39;49;00m\u001b[38;5;21;43;01m.\u001b[39;49;00m\u001b[38;5;21;43;01m_dynamo\u001b[39;49;00m\u001b[38;5;21;43;01m.\u001b[39;49;00m\u001b[38;5;21;43;01mtesting\u001b[39;49;00m\u001b[43m \u001b[49m\u001b[38;5;28;43;01mimport\u001b[39;49;00m\u001b[43m \u001b[49m\u001b[43mrand_strided\u001b[49m\n",
      "File \u001b[1;32mc:\\Users\\josep\\AppData\\Local\\Programs\\Python\\Python312\\Lib\\site-packages\\torch\\_custom_op\\impl.py:333\u001b[0m, in \u001b[0;36mCustomOp.impl_factory.<locals>.inner\u001b[1;34m(f)\u001b[0m\n\u001b[0;32m    332\u001b[0m \u001b[38;5;28;01mdef\u001b[39;00m \u001b[38;5;21minner\u001b[39m(f):\n\u001b[1;32m--> 333\u001b[0m     \u001b[38;5;28;43mself\u001b[39;49m\u001b[38;5;241;43m.\u001b[39;49m\u001b[43m_register_impl\u001b[49m\u001b[43m(\u001b[49m\u001b[38;5;124;43m\"\u001b[39;49m\u001b[38;5;124;43mfactory\u001b[39;49m\u001b[38;5;124;43m\"\u001b[39;49m\u001b[43m,\u001b[49m\u001b[43m \u001b[49m\u001b[43mf\u001b[49m\u001b[43m)\u001b[49m\n\u001b[0;32m    334\u001b[0m     library\u001b[38;5;241m.\u001b[39mimpl(\u001b[38;5;28mself\u001b[39m\u001b[38;5;241m.\u001b[39m_lib, \u001b[38;5;28mself\u001b[39m\u001b[38;5;241m.\u001b[39m_opname, \u001b[38;5;124m\"\u001b[39m\u001b[38;5;124mBackendSelect\u001b[39m\u001b[38;5;124m\"\u001b[39m)(f)\n\u001b[0;32m    335\u001b[0m     \u001b[38;5;28;01mreturn\u001b[39;00m f\n",
      "File \u001b[1;32mc:\\Users\\josep\\AppData\\Local\\Programs\\Python\\Python312\\Lib\\site-packages\\torch\\_custom_op\\impl.py:223\u001b[0m, in \u001b[0;36mCustomOp._register_impl\u001b[1;34m(self, kind, func, stacklevel)\u001b[0m\n\u001b[0;32m    217\u001b[0m     location \u001b[38;5;241m=\u001b[39m func_and_location\u001b[38;5;241m.\u001b[39mlocation\n\u001b[0;32m    218\u001b[0m     \u001b[38;5;28;01mraise\u001b[39;00m \u001b[38;5;167;01mRuntimeError\u001b[39;00m(\n\u001b[0;32m    219\u001b[0m         \u001b[38;5;124mf\u001b[39m\u001b[38;5;124m\"\u001b[39m\u001b[38;5;124mAttempting to register a \u001b[39m\u001b[38;5;132;01m{\u001b[39;00mkind\u001b[38;5;132;01m}\u001b[39;00m\u001b[38;5;124m impl for operator \u001b[39m\u001b[38;5;132;01m{\u001b[39;00m\u001b[38;5;28mself\u001b[39m\u001b[38;5;241m.\u001b[39m_qualname\u001b[38;5;132;01m}\u001b[39;00m\u001b[38;5;124m \u001b[39m\u001b[38;5;124m\"\u001b[39m\n\u001b[0;32m    220\u001b[0m         \u001b[38;5;124mf\u001b[39m\u001b[38;5;124m\"\u001b[39m\u001b[38;5;124mthat already has a \u001b[39m\u001b[38;5;132;01m{\u001b[39;00mkind\u001b[38;5;132;01m}\u001b[39;00m\u001b[38;5;124m impl registered from Python at \u001b[39m\u001b[38;5;124m\"\u001b[39m\n\u001b[0;32m    221\u001b[0m         \u001b[38;5;124mf\u001b[39m\u001b[38;5;124m\"\u001b[39m\u001b[38;5;132;01m{\u001b[39;00mlocation\u001b[38;5;132;01m}\u001b[39;00m\u001b[38;5;124m. This is not supported.\u001b[39m\u001b[38;5;124m\"\u001b[39m\n\u001b[0;32m    222\u001b[0m     )\n\u001b[1;32m--> 223\u001b[0m frame \u001b[38;5;241m=\u001b[39m \u001b[43minspect\u001b[49m\u001b[38;5;241;43m.\u001b[39;49m\u001b[43mgetframeinfo\u001b[49m\u001b[43m(\u001b[49m\u001b[43msys\u001b[49m\u001b[38;5;241;43m.\u001b[39;49m\u001b[43m_getframe\u001b[49m\u001b[43m(\u001b[49m\u001b[43mstacklevel\u001b[49m\u001b[43m)\u001b[49m\u001b[43m)\u001b[49m\n\u001b[0;32m    224\u001b[0m location \u001b[38;5;241m=\u001b[39m \u001b[38;5;124mf\u001b[39m\u001b[38;5;124m\"\u001b[39m\u001b[38;5;132;01m{\u001b[39;00mframe\u001b[38;5;241m.\u001b[39mfilename\u001b[38;5;132;01m}\u001b[39;00m\u001b[38;5;124m:\u001b[39m\u001b[38;5;132;01m{\u001b[39;00mframe\u001b[38;5;241m.\u001b[39mlineno\u001b[38;5;132;01m}\u001b[39;00m\u001b[38;5;124m\"\u001b[39m\n\u001b[0;32m    225\u001b[0m \u001b[38;5;28mself\u001b[39m\u001b[38;5;241m.\u001b[39m_impls[kind] \u001b[38;5;241m=\u001b[39m FuncAndLocation(func, location)\n",
      "File \u001b[1;32mc:\\Users\\josep\\AppData\\Local\\Programs\\Python\\Python312\\Lib\\inspect.py:1707\u001b[0m, in \u001b[0;36mgetframeinfo\u001b[1;34m(frame, context)\u001b[0m\n\u001b[0;32m   1705\u001b[0m start \u001b[38;5;241m=\u001b[39m lineno \u001b[38;5;241m-\u001b[39m \u001b[38;5;241m1\u001b[39m \u001b[38;5;241m-\u001b[39m context\u001b[38;5;241m/\u001b[39m\u001b[38;5;241m/\u001b[39m\u001b[38;5;241m2\u001b[39m\n\u001b[0;32m   1706\u001b[0m \u001b[38;5;28;01mtry\u001b[39;00m:\n\u001b[1;32m-> 1707\u001b[0m     lines, lnum \u001b[38;5;241m=\u001b[39m \u001b[43mfindsource\u001b[49m\u001b[43m(\u001b[49m\u001b[43mframe\u001b[49m\u001b[43m)\u001b[49m\n\u001b[0;32m   1708\u001b[0m \u001b[38;5;28;01mexcept\u001b[39;00m \u001b[38;5;167;01mOSError\u001b[39;00m:\n\u001b[0;32m   1709\u001b[0m     lines \u001b[38;5;241m=\u001b[39m index \u001b[38;5;241m=\u001b[39m \u001b[38;5;28;01mNone\u001b[39;00m\n",
      "File \u001b[1;32mc:\\Users\\josep\\AppData\\Local\\Programs\\Python\\Python312\\Lib\\inspect.py:1083\u001b[0m, in \u001b[0;36mfindsource\u001b[1;34m(object)\u001b[0m\n\u001b[0;32m   1080\u001b[0m     \u001b[38;5;28;01mif\u001b[39;00m \u001b[38;5;129;01mnot\u001b[39;00m (file\u001b[38;5;241m.\u001b[39mstartswith(\u001b[38;5;124m'\u001b[39m\u001b[38;5;124m<\u001b[39m\u001b[38;5;124m'\u001b[39m) \u001b[38;5;129;01mand\u001b[39;00m file\u001b[38;5;241m.\u001b[39mendswith(\u001b[38;5;124m'\u001b[39m\u001b[38;5;124m>\u001b[39m\u001b[38;5;124m'\u001b[39m)):\n\u001b[0;32m   1081\u001b[0m         \u001b[38;5;28;01mraise\u001b[39;00m \u001b[38;5;167;01mOSError\u001b[39;00m(\u001b[38;5;124m'\u001b[39m\u001b[38;5;124msource code not available\u001b[39m\u001b[38;5;124m'\u001b[39m)\n\u001b[1;32m-> 1083\u001b[0m module \u001b[38;5;241m=\u001b[39m \u001b[43mgetmodule\u001b[49m\u001b[43m(\u001b[49m\u001b[38;5;28;43mobject\u001b[39;49m\u001b[43m,\u001b[49m\u001b[43m \u001b[49m\u001b[43mfile\u001b[49m\u001b[43m)\u001b[49m\n\u001b[0;32m   1084\u001b[0m \u001b[38;5;28;01mif\u001b[39;00m module:\n\u001b[0;32m   1085\u001b[0m     lines \u001b[38;5;241m=\u001b[39m linecache\u001b[38;5;241m.\u001b[39mgetlines(file, module\u001b[38;5;241m.\u001b[39m\u001b[38;5;18m__dict__\u001b[39m)\n",
      "File \u001b[1;32mc:\\Users\\josep\\AppData\\Local\\Programs\\Python\\Python312\\Lib\\inspect.py:1009\u001b[0m, in \u001b[0;36mgetmodule\u001b[1;34m(object, _filename)\u001b[0m\n\u001b[0;32m   1006\u001b[0m         f \u001b[38;5;241m=\u001b[39m getabsfile(module)\n\u001b[0;32m   1007\u001b[0m         \u001b[38;5;66;03m# Always map to the name the module knows itself by\u001b[39;00m\n\u001b[0;32m   1008\u001b[0m         modulesbyfile[f] \u001b[38;5;241m=\u001b[39m modulesbyfile[\n\u001b[1;32m-> 1009\u001b[0m             \u001b[43mos\u001b[49m\u001b[38;5;241;43m.\u001b[39;49m\u001b[43mpath\u001b[49m\u001b[38;5;241;43m.\u001b[39;49m\u001b[43mrealpath\u001b[49m\u001b[43m(\u001b[49m\u001b[43mf\u001b[49m\u001b[43m)\u001b[49m] \u001b[38;5;241m=\u001b[39m module\u001b[38;5;241m.\u001b[39m\u001b[38;5;18m__name__\u001b[39m\n\u001b[0;32m   1010\u001b[0m \u001b[38;5;28;01mif\u001b[39;00m file \u001b[38;5;129;01min\u001b[39;00m modulesbyfile:\n\u001b[0;32m   1011\u001b[0m     \u001b[38;5;28;01mreturn\u001b[39;00m sys\u001b[38;5;241m.\u001b[39mmodules\u001b[38;5;241m.\u001b[39mget(modulesbyfile[file])\n",
      "File \u001b[1;32m<frozen ntpath>:722\u001b[0m, in \u001b[0;36mrealpath\u001b[1;34m(path, strict)\u001b[0m\n",
      "\u001b[1;31mKeyboardInterrupt\u001b[0m: "
     ]
    }
   ],
   "source": [
    "import time\n",
    "import torch\n",
    "import torch.nn.functional as F\n",
    "from torch.optim import Adam\n",
    "from data import get_dataloader\n",
    "from model import PointerNetwork\n",
    "\n",
    "# Hiperparámetros\n",
    "epochs       = 20\n",
    "batch_size   = 64\n",
    "seq_len      = 20\n",
    "max_val      = 20\n",
    "max_subset   = 3\n",
    "vocab_size   = max_val+1\n",
    "embed_dim    = 32\n",
    "hidden_dim   = 64\n",
    "lr           = 1e-3\n",
    "alpha        = 0.1\n",
    "train_size   = 10000\n",
    "val_size     = 2000\n",
    "\n",
    "# DataLoaders\n",
    "train_loader = get_dataloader(batch_size, train_size, seq_len, max_val, max_subset)\n",
    "val_loader   = get_dataloader(batch_size, val_size,   seq_len, max_val, max_subset, shuffle=False)\n",
    "\n",
    "# Modelo + optimizador\n",
    "device = torch.device('cuda' if torch.cuda.is_available() else 'cpu')\n",
    "model  = PointerNetwork(seq_len, vocab_size, embed_dim, hidden_dim).to(device)\n",
    "opt    = Adam(model.parameters(), lr=lr)\n",
    "\n",
    "for ep in range(1, epochs+1):\n",
    "    t0 = time.time()\n",
    "    model.train(); train_loss=0\n",
    "    for xs, idxs, Ss in train_loader:\n",
    "        xs, idxs, Ss = xs.to(device), idxs.to(device), Ss.to(device)\n",
    "        ptr = model(xs, Ss, max_output_len=idxs.size(1))\n",
    "        # Cross-entropy\n",
    "        ce = sum(\n",
    "            F.nll_loss(torch.log(ptr[:,t,:]+1e-8), idxs[:,t])\n",
    "            for t in range(ptr.size(1))\n",
    "        ) / ptr.size(1)\n",
    "        # Error en suma\n",
    "        expected = (ptr * xs.unsqueeze(1).float()).sum((1,2))\n",
    "        ls       = F.l1_loss(expected, Ss.float())\n",
    "        loss     = ce + alpha * ls\n",
    "        opt.zero_grad(); loss.backward(); opt.step()\n",
    "        train_loss += loss.item()\n",
    "    # Validación exact-match\n",
    "    model.eval(); correct=total=0\n",
    "    with torch.no_grad():\n",
    "        for xs, idxs, Ss in val_loader:\n",
    "            xs, idxs = xs.to(device), idxs.to(device)\n",
    "            ptr = model(xs, Ss, idxs.size(1))\n",
    "            pred = ptr.argmax(-1)\n",
    "            for b in range(xs.size(0)):\n",
    "                if set(pred[b].tolist()) == set(idxs[b].tolist()):\n",
    "                    correct+=1\n",
    "                total+=1\n",
    "    t1 = time.time()\n",
    "    print(f\"Ep {ep:02d} Loss {train_loss/len(train_loader):.3f} \"\n",
    "          f\"ValAcc {correct/total:.2%} Time {t1-t0:.1f}s\")\n",
    "\n",
    "# Guardar modelo\n",
    "# torch.save(model.state_dict(), 'best_ptrnet.pth')"
   ]
  },
  {
   "cell_type": "markdown",
   "id": "fd84435d",
   "metadata": {},
   "source": [
    "5. Evaluación "
   ]
  },
  {
   "cell_type": "code",
   "execution_count": null,
   "id": "d6b2dd32",
   "metadata": {},
   "outputs": [],
   "source": [
    "import time\n",
    "import torch\n",
    "from data import get_dataloader\n",
    "from model import PointerNetwork\n",
    "\n",
    "# Parámetros idénticos a train.py\n",
    "seq_len     = 20\n",
    "max_val     = 20\n",
    "max_subset  = 3\n",
    "vocab_size  = max_val+1\n",
    "embed_dim   = 32\n",
    "hidden_dim  = 64\n",
    "batch_size  = 64\n",
    "model_path  = 'best_ptrnet.pth'\n",
    "\n",
    "device = torch.device('cuda' if torch.cuda.is_available() else 'cpu')\n",
    "model = PointerNetwork(seq_len, vocab_size, embed_dim, hidden_dim).to(device)\n",
    "model.load_state_dict(torch.load(model_path, map_location=device))\n",
    "model.eval()\n",
    "\n",
    "test_loader = get_dataloader(batch_size, 2000, seq_len, max_val, max_subset, shuffle=False)\n",
    "correct=total=0; times=[]\n",
    "with torch.no_grad():\n",
    "    for xs, idxs, Ss in test_loader:\n",
    "        xs, idxs, Ss = xs.to(device), idxs.to(device), Ss.to(device)\n",
    "        t0 = time.time()\n",
    "        ptr = model(xs, Ss, idxs.size(1))\n",
    "        times.append((time.time()-t0)/xs.size(0))\n",
    "        pred = ptr.argmax(-1)\n",
    "        for b in range(xs.size(0)):\n",
    "            if set(pred[b].tolist())==set(idxs[b].tolist()): correct+=1\n",
    "            total+=1\n",
    "print(f\"Test Acc: {correct/total:.2%}\")\n",
    "print(f\"Avg inf time: {sum(times)/len(times)*1000:.2f} ms\")"
   ]
  },
  {
   "cell_type": "markdown",
   "id": "eb948e10",
   "metadata": {},
   "source": []
  },
  {
   "cell_type": "code",
   "execution_count": null,
   "id": "ee72cf64",
   "metadata": {},
   "outputs": [],
   "source": []
  }
 ],
 "metadata": {
  "kernelspec": {
   "display_name": "Python 3",
   "language": "python",
   "name": "python3"
  },
  "language_info": {
   "codemirror_mode": {
    "name": "ipython",
    "version": 3
   },
   "file_extension": ".py",
   "mimetype": "text/x-python",
   "name": "python",
   "nbconvert_exporter": "python",
   "pygments_lexer": "ipython3",
   "version": "3.12.3"
  }
 },
 "nbformat": 4,
 "nbformat_minor": 5
}
