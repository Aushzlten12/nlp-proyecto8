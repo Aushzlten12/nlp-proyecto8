{
 "cells": [
  {
   "cell_type": "markdown",
   "id": "d0c87771",
   "metadata": {},
   "source": [
    "# Pointer Networks: Arquitectura Autoregresiva para Selección de Índices"
   ]
  },
  {
   "cell_type": "markdown",
   "id": "22be1d1f",
   "metadata": {},
   "source": [
    "**Definición**: Un **Pointer Network** es un modelo de red neuronal basado en atención que genera como salida posiciones (índices) de la entrada, en lugar de valores continuos o categorías fijas. Su decoder es **autoregresivo**, es decir, cada paso depende de la salida previa y del estado interno, permitiendo secuencialmente “apuntar” a elementos de la secuencia de entrada.\n",
    "\n",
    "**Referencia**: Oriol Vinyals, Meire Fortunato & Navdeep Jaitly (2015). ArXiv: [1506.03134](https://arxiv.org/abs/1506.03134)\n"
   ]
  },
  {
   "cell_type": "markdown",
   "id": "7c662184",
   "metadata": {},
   "source": [
    "## Problema: Suma de subconjunto mediante selección secuencial\n",
    "\n",
    "**Objetivo**: Dados:\n",
    "- Secuencia $X = [x_1, x_2, \\dots, x_n]$\n",
    "- Valor objetivo $S$\n",
    "\n",
    "Encontrar un subconjunto de índices $\\{i_1, \\dots, i_k\\}$ tal que:\n",
    "```math\n",
    "\\sum_{j=1}^k x_{i_j} \\approx S\n",
    "```\n",
    "\n",
    "**Desafío**: El espacio de búsqueda es exponencial $O(2^n)$.\n",
    "\n",
    "**Estrategia**: Usar un Pointer Network autoregresivo como aproximador rápido.\n"
   ]
  },
  {
   "cell_type": "markdown",
   "id": "3b229ce5",
   "metadata": {},
   "source": [
    "## 1. Generación de Datos (`data.py`)"
   ]
  },
  {
   "cell_type": "code",
   "execution_count": 1,
   "id": "271d1926",
   "metadata": {},
   "outputs": [
    {
     "name": "stdout",
     "output_type": "stream",
     "text": [
      "Ejemplo Inputs: [array([ 4, 13,  6,  7,  2, 18, 15, 17,  4,  9]), array([14, 18, 12,  1, 14, 13,  1, 11,  4, 10]), array([ 6, 14, 12,  7, 19,  2,  6,  2, 15, 12]), array([11, 19,  2,  3,  2,  4,  7, 11, 16,  9]), array([11, 12,  5, 14, 17, 19,  9, 11, 13,  6])]\n",
      "Ejemplo Outputs: [[0, 3, 4, 5, 6, 7], [1, 2, 3, 6, 7, 8, 9], [1, 3, 7, 8], [0, 1, 2, 3, 6, 7, 9], [0, 1, 2, 3, 4, 5, 6, 7, 8]]\n",
      "Ejemplo Sums: [63, 57, 38, 62, 111]\n"
     ]
    }
   ],
   "source": [
    "import numpy as np\n",
    "\n",
    "def generate_sequence_target_data(num_samples=1000, seq_len=10, max_val=20):\n",
    "    \"\"\"\n",
    "    Crea un dataset de ejemplo:\n",
    "    - `num_samples`: cuántas secuencias generar.\n",
    "    - `seq_len`: longitud de cada secuencia.\n",
    "    - `max_val`: valor máximo aleatorio en la secuencia.\n",
    "    Retorna: inputs, outputs (índices), target_sums.\n",
    "    \"\"\"\n",
    "    inputs, outputs, target_sums = [], [], []\n",
    "    for _ in range(num_samples):\n",
    "        # Secuencia aleatoria de enteros 1..max_val\n",
    "        seq = np.random.randint(1, max_val, size=seq_len)\n",
    "        # Elegimos aleatoriamente cuántos índices tomamos (1 a seq_len-1)\n",
    "        num_choices = np.random.randint(1, seq_len)\n",
    "        subset_indices = sorted(\n",
    "            np.random.choice(seq_len, size=num_choices, replace=False).tolist()\n",
    "        )\n",
    "        # Suma objetivo basada en los índices seleccionados\n",
    "        target_sum = int(seq[subset_indices].sum())\n",
    "\n",
    "        inputs.append(seq)\n",
    "        outputs.append(subset_indices)\n",
    "        target_sums.append(target_sum)\n",
    "    return inputs, outputs, target_sums\n",
    "\n",
    "# Ejemplo de uso\n",
    "if __name__ == \"__main__\":\n",
    "    inputs, outputs, sums = generate_sequence_target_data(5, seq_len=10)\n",
    "    print(\"Ejemplo Inputs:\", inputs)\n",
    "    print(\"Ejemplo Outputs:\", outputs)\n",
    "    print(\"Ejemplo Sums:\", sums)"
   ]
  },
  {
   "cell_type": "markdown",
   "id": "ea8b618a",
   "metadata": {},
   "source": [
    "**Explicación**: Generamos suficientes muestras para entrenamiento; \n",
    "\n",
    "`seq_len=10` equilibra complejidad y velocidad; \n",
    "\n",
    "`max_val=20` da variabilidad moderada."
   ]
  },
  {
   "cell_type": "markdown",
   "id": "5ad3253a",
   "metadata": {},
   "source": [
    "## 2. Definición del Modelo (`model.py`)"
   ]
  },
  {
   "cell_type": "code",
   "execution_count": 2,
   "id": "4fd860c4",
   "metadata": {},
   "outputs": [],
   "source": [
    "import torch\n",
    "import torch.nn as nn\n",
    "import torch.nn.functional as F\n",
    "\n",
    "class AutoregressivePointerNet(nn.Module):\n",
    "    def __init__(self, input_dim=1, hidden_dim=128):\n",
    "        super().__init__()\n",
    "        # LSTM encoder para procesar la secuencia de entrada\n",
    "        self.encoder = nn.LSTM(input_dim, hidden_dim, batch_first=True)\n",
    "        # LSTMCell para el decoder autoregresivo, paso a paso\n",
    "        self.decoder_cell = nn.LSTMCell(input_dim, hidden_dim)\n",
    "        # Proyecciones lineales para calcular atención\n",
    "        self.W1 = nn.Linear(hidden_dim, hidden_dim)\n",
    "        self.W2 = nn.Linear(hidden_dim, hidden_dim)\n",
    "        self.vt = nn.Linear(hidden_dim, 1)\n",
    "\n",
    "    def forward(self, x, target_len):\n",
    "        # x: (batch, seq_len, input_dim)\n",
    "        batch_size, seq_len, _ = x.size()\n",
    "        enc_out, (h, c) = self.encoder(x)  # enc_out: (batch, seq, hidden_dim)\n",
    "        mask = torch.zeros(batch_size, seq_len, device=x.device)\n",
    "        pointers, log_probs = [], []\n",
    "\n",
    "        # Entrada inicial: vector cero (no apuntado previo)\n",
    "        dec_input = torch.zeros(batch_size, x.size(-1), device=x.device)\n",
    "        hx, cx = h[0], c[0]  # hidden y cell state inicial del decoder\n",
    "\n",
    "        for _ in range(target_len):\n",
    "            # Un paso de decoder\n",
    "            hx, cx = self.decoder_cell(dec_input, (hx, cx))\n",
    "\n",
    "            # Atención: calculamos scores entre hx y cada enc_out[i]\n",
    "            query = self.W2(hx).unsqueeze(1)      # (batch, 1, hidden)\n",
    "            keys = self.W1(enc_out)               # (batch, seq, hidden)\n",
    "            scores = self.vt(torch.tanh(keys + query)).squeeze(-1)  # (batch, seq)\n",
    "\n",
    "            # Evitamos repetir índices seleccionados\n",
    "            scores = scores.masked_fill(mask.bool(), float('-inf'))\n",
    "            log_prob = F.log_softmax(scores, dim=1)\n",
    "\n",
    "            idx = log_prob.argmax(dim=1)         # elegimos el puntero\n",
    "            pointers.append(idx)\n",
    "            log_probs.append(log_prob[torch.arange(batch_size), idx])\n",
    "\n",
    "            # Actualizamos máscara y próxima entrada para decoder\n",
    "            mask.scatter_(1, idx.unsqueeze(1), 1)\n",
    "            dec_input = x[torch.arange(batch_size), idx]\n",
    "\n",
    "        return torch.stack(pointers, dim=1), torch.stack(log_probs, dim=1)"
   ]
  },
  {
   "cell_type": "markdown",
   "id": "cc9b41df",
   "metadata": {},
   "source": [
    "**Explicación**: \n",
    "\n",
    "`hidden_dim=128` ofrece capacidad suficiente de representación sin ser demasiado lento; \n",
    "\n",
    "usamos `LSTMCell` para control manual en cada paso.\n"
   ]
  },
  {
   "cell_type": "markdown",
   "id": "0176507c",
   "metadata": {},
   "source": [
    "## 3. Evaluación (`evaluate.py`)"
   ]
  },
  {
   "cell_type": "code",
   "execution_count": 3,
   "id": "a85f2235",
   "metadata": {},
   "outputs": [],
   "source": [
    "import time\n",
    "\n",
    "def evaluate_model(model, inputs, outputs, target_sums):\n",
    "    \"\"\"\n",
    "    Calcula MAE y tiempo medio de inferencia sobre datos de prueba.\n",
    "    \"\"\"\n",
    "    model.eval()\n",
    "    total_error, total_time = 0.0, 0.0\n",
    "    n = len(inputs)\n",
    "\n",
    "    with torch.no_grad():\n",
    "        for seq, subset, tgt in zip(inputs, outputs, target_sums):\n",
    "            x = torch.FloatTensor(seq).unsqueeze(0).unsqueeze(-1)\n",
    "            start = time.time()\n",
    "            pred_idx, _ = model(x, target_len=len(subset))\n",
    "            elapsed = time.time() - start\n",
    "\n",
    "            # Calculamos suma predicha y error absoluto\n",
    "            pred = pred_idx[0].tolist()\n",
    "            pred_sum = sum(seq[j] for j in pred)\n",
    "            total_error += abs(pred_sum - tgt)\n",
    "            total_time += elapsed\n",
    "\n",
    "    mae = total_error / n\n",
    "    avg_time = total_time / n\n",
    "    return mae, avg_time"
   ]
  },
  {
   "cell_type": "markdown",
   "id": "7a3b757a",
   "metadata": {},
   "source": [
    "**Explicación**: \n",
    "\n",
    "Usamos MAE porque medimos distancia en valor continuo; \n",
    "\n",
    "Además medimos tiempo para evaluar la eficiencia real.\n"
   ]
  },
  {
   "cell_type": "markdown",
   "id": "6076d13f",
   "metadata": {},
   "source": [
    "## 4. Entrenamiento (`train.py`)"
   ]
  },
  {
   "cell_type": "code",
   "execution_count": 4,
   "id": "234a3760",
   "metadata": {},
   "outputs": [],
   "source": [
    "import torch\n",
    "\n",
    "\n",
    "def train_model(model, optimizer, data, val_data=None, num_epochs=10):\n",
    "    train_in, train_out, train_sum = data\n",
    "    for epoch in range(num_epochs):\n",
    "        model.train()\n",
    "        loss_total = 0.0\n",
    "        for seq, subset in zip(train_in, train_out):\n",
    "            x = torch.FloatTensor(seq).unsqueeze(0).unsqueeze(-1)\n",
    "            y = torch.LongTensor(subset)\n",
    "            optimizer.zero_grad()\n",
    "            _, log_probs = model(x, target_len=len(y))\n",
    "            loss = -log_probs.sum()  # cross-entropy positional\n",
    "            loss.backward()\n",
    "            optimizer.step()\n",
    "            loss_total += loss.item()\n",
    "\n",
    "        avg_loss = loss_total / len(train_in)\n",
    "        if val_data:\n",
    "            mae, avg_time = evaluate_model(model, *val_data)\n",
    "            print(f\"Epoch {epoch+1}/{num_epochs} — Loss: {avg_loss:.4f} — MAE: {mae:.4f} — Time: {avg_time*1000:.2f} ms\")\n",
    "        else:\n",
    "            print(f\"Epoch {epoch+1}/{num_epochs} — Loss: {avg_loss:.4f}\")"
   ]
  },
  {
   "cell_type": "markdown",
   "id": "9c24cbef",
   "metadata": {},
   "source": [
    "**Explicación**: \n",
    "\n",
    "`num_epochs=10` es un compromiso entre calidad y tiempo; podemos ajustar según la convergencia.\n"
   ]
  },
  {
   "cell_type": "markdown",
   "id": "9a2ee35d",
   "metadata": {},
   "source": [
    "## 5. Prueba y Resultados (`demo.py`)"
   ]
  },
  {
   "cell_type": "code",
   "execution_count": null,
   "id": "1fd07dac",
   "metadata": {},
   "outputs": [
    {
     "name": "stdout",
     "output_type": "stream",
     "text": [
      "\n",
      "Test MAE: 12.4000, Inference time: 23.50 ms\n",
      "\n",
      "Ejemplos finales:\n",
      "Seq: [ 4 14 17  1  5  4 14  8 16 11]\n",
      "  GT: [0, 1, 2, 3, 4, 5, 6, 8, 9] (sum=86)\n",
      "  Pred: [0, 3, 5, 4, 1, 7, 2, 6, 9] (sum=78)\n",
      "------------------------------\n",
      "Seq: [13 10  3 17 13  5  3  5  1  5]\n",
      "  GT: [1, 3, 4, 6, 8] (sum=44)\n",
      "  Pred: [8, 0, 2, 9, 6] (sum=25)\n",
      "------------------------------\n",
      "Seq: [16  7 15 12 14  6 12 12  6  8]\n",
      "  GT: [0, 1, 3, 5, 8, 9] (sum=55)\n",
      "  Pred: [0, 1, 5, 8, 2, 9] (sum=58)\n",
      "------------------------------\n",
      "Seq: [17 11 19  6  3 19  8 14  9 17]\n",
      "  GT: [0, 1, 2, 4, 5, 6, 7, 8, 9] (sum=117)\n",
      "  Pred: [0, 4, 3, 1, 6, 2, 8, 5, 7] (sum=106)\n",
      "------------------------------\n",
      "Seq: [ 4  7 14  4 18 17 17 10 15 16]\n",
      "  GT: [0, 6, 8] (sum=36)\n",
      "  Pred: [0, 1, 3] (sum=15)\n",
      "------------------------------\n"
     ]
    }
   ],
   "source": [
    "# Generación de datos\n",
    "seq_len = 10\n",
    "train_data = generate_sequence_target_data(200, seq_len)\n",
    "val_data   = generate_sequence_target_data(50, seq_len)\n",
    "val_tuple  = (val_data[0], val_data[1], val_data[2])\n",
    "\n",
    "# Inicializar modelo y optimizador\n",
    "model = AutoregressivePointerNet(input_dim=1, hidden_dim=64)\n",
    "optimizer = torch.optim.Adam(model.parameters(), lr=1e-3)\n",
    "\n",
    "# Entrenamiento con validación\train_model(model, optimizer, train_data, val_data=val_tuple, num_epochs=15)\n",
    "\n",
    "# Evaluación final\n",
    "test_data = generate_sequence_target_data(5, seq_len)\n",
    "mae, t_inf = evaluate_model(model, test_data[0], test_data[1], test_data[2])\n",
    "print(f\"\\nTest MAE: {mae:.4f}, Inference time: {t_inf*1000:.2f} ms\")\n",
    "\n",
    "# Ejemplos de inferencia final\n",
    "print(\"\\nEjemplos finales:\")\n",
    "for seq, subset, tgt in zip(*test_data):\n",
    "    x = torch.FloatTensor(seq).unsqueeze(0).unsqueeze(-1)\n",
    "    pred_idx, _ = model(x, target_len=len(subset))\n",
    "    pred = pred_idx[0].tolist()\n",
    "    print(f\"Seq: {seq}\")\n",
    "    print(f\"  GT: {subset} (sum={tgt})\")\n",
    "    print(f\"  Pred: {pred} (sum={sum(seq[j] for j in pred)})\")\n",
    "    print(\"-\"*30) "
   ]
  },
  {
   "cell_type": "markdown",
   "id": "9fad37a1",
   "metadata": {},
   "source": []
  }
 ],
 "metadata": {
  "kernelspec": {
   "display_name": "Python 3",
   "language": "python",
   "name": "python3"
  },
  "language_info": {
   "codemirror_mode": {
    "name": "ipython",
    "version": 3
   },
   "file_extension": ".py",
   "mimetype": "text/x-python",
   "name": "python",
   "nbconvert_exporter": "python",
   "pygments_lexer": "ipython3",
   "version": "3.12.3"
  }
 },
 "nbformat": 4,
 "nbformat_minor": 5
}
